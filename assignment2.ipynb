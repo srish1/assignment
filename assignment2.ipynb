{
 "cells": [
  {
   "cell_type": "markdown",
   "id": "806c7563",
   "metadata": {},
   "source": [
    "# assignment 2"
   ]
  },
  {
   "cell_type": "raw",
   "id": "5cbedb63",
   "metadata": {},
   "source": [
    "1. the two values of boolean data type are true and false."
   ]
  },
  {
   "cell_type": "raw",
   "id": "b74d1960",
   "metadata": {},
   "source": [
    "2. the three different types of boolean are AND ,OR and NOT."
   ]
  },
  {
   "cell_type": "raw",
   "id": "c836a113",
   "metadata": {},
   "source": [
    "3. OPERATOR    WHAT IT MEANS              EXAMPLE\n",
    "   AND         true if both are true      X AND Y\n",
    "   OR          true if even one is true   X OR Y\n",
    "   NOT         true only if false         NOT X"
   ]
  },
  {
   "cell_type": "raw",
   "id": "5e91cca3",
   "metadata": {},
   "source": [
    "4. (5>4)  is true but (3==5) is false so seperated by AND so it's false\n",
    "   !(5>4) answer is false\n",
    "   (5>4) is true and (3==5) is false and seperated by OR so it is true\n",
    "   same as previous expression with NOT operator therefore false\n",
    "   (true and true)and(true==false) answer is false\n",
    "   (not false)or(not true) answer is true."
   ]
  },
  {
   "cell_type": "markdown",
   "id": "7f793a1b",
   "metadata": {},
   "source": [
    "5. >,<,>=,<=,==,!="
   ]
  },
  {
   "cell_type": "raw",
   "id": "2fc874af",
   "metadata": {},
   "source": [
    "6. a double equal to (==) is a conditional operator and (=) single equal to is an assignment operator. eg. a=5 b=6 (use of assignment operator to assign values to a and b) condition if a==b: print true else: false."
   ]
  },
  {
   "cell_type": "raw",
   "id": "7ebfd43c",
   "metadata": {},
   "source": [
    "7. blocks are lines under if statement print('eggs') then print('bacon') then under else print('ham') print('spam')"
   ]
  },
  {
   "cell_type": "raw",
   "id": "2bc3e797",
   "metadata": {},
   "source": [
    "8.  spam = input(\"enter a value\")\n",
    "    if spam==1:\n",
    "     print (\"hello\")\n",
    "    if spam==2:\n",
    "     print (\"howdy\")\n",
    "    else:\n",
    "     print (\"greetings!\")"
   ]
  },
  {
   "cell_type": "raw",
   "id": "b5ef07a8",
   "metadata": {},
   "source": [
    "9. Ctrl+c"
   ]
  },
  {
   "cell_type": "raw",
   "id": "98104d98",
   "metadata": {},
   "source": [
    "10. break statement ends the loop. \n",
    " continue statement doesn't break the loop but starts the loop again.It skips the single iteration in a loop."
   ]
  },
  {
   "cell_type": "raw",
   "id": "c157bb8d",
   "metadata": {},
   "source": [
    "11. range(10) it will give numbers 0 to 9\n",
    "    range (0,10) will also give values from 0 to 9\n",
    "    range(0,10,1) will values skippin 1 i.e 0 2 4 6 8  "
   ]
  },
  {
   "cell_type": "raw",
   "id": "d107db99",
   "metadata": {},
   "source": [
    "12. for n in range(0,11):\n",
    "    print(n)\n",
    "                      \n",
    "  n=1\n",
    "  while(n<=10):\n",
    "  print(n)"
   ]
  },
  {
   "cell_type": "raw",
   "id": "1d6202f9",
   "metadata": {},
   "source": [
    "This function can be called with spam.bacon()"
   ]
  }
 ],
 "metadata": {
  "kernelspec": {
   "display_name": "Python 3",
   "language": "python",
   "name": "python3"
  },
  "language_info": {
   "codemirror_mode": {
    "name": "ipython",
    "version": 3
   },
   "file_extension": ".py",
   "mimetype": "text/x-python",
   "name": "python",
   "nbconvert_exporter": "python",
   "pygments_lexer": "ipython3",
   "version": "3.8.8"
  }
 },
 "nbformat": 4,
 "nbformat_minor": 5
}
