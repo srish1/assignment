{
 "cells": [
  {
   "cell_type": "markdown",
   "id": "811b4e0e",
   "metadata": {},
   "source": [
    "# assignment 5"
   ]
  },
  {
   "cell_type": "markdown",
   "id": "e6637948",
   "metadata": {},
   "source": [
    "1. empty dictionary is represented by curly parentheses{}"
   ]
  },
  {
   "cell_type": "markdown",
   "id": "fc03d845",
   "metadata": {},
   "source": [
    "2. a={'foo':42}"
   ]
  },
  {
   "cell_type": "markdown",
   "id": "3ac509d2",
   "metadata": {},
   "source": [
    "3. dictionary id unordered set while list is ordered set of elements."
   ]
  },
  {
   "cell_type": "code",
   "execution_count": 2,
   "id": "26976263",
   "metadata": {},
   "outputs": [],
   "source": [
    "#answer 4\n",
    "spam ={'bar': 100}"
   ]
  },
  {
   "cell_type": "code",
   "execution_count": 3,
   "id": "d55ac0ac",
   "metadata": {},
   "outputs": [
    {
     "ename": "KeyError",
     "evalue": "'foo'",
     "output_type": "error",
     "traceback": [
      "\u001b[1;31m---------------------------------------------------------------------------\u001b[0m",
      "\u001b[1;31mKeyError\u001b[0m                                  Traceback (most recent call last)",
      "\u001b[1;32m<ipython-input-3-9b5a94d1de8d>\u001b[0m in \u001b[0;36m<module>\u001b[1;34m\u001b[0m\n\u001b[1;32m----> 1\u001b[1;33m \u001b[0mspam\u001b[0m\u001b[1;33m[\u001b[0m\u001b[1;34m'foo'\u001b[0m\u001b[1;33m]\u001b[0m\u001b[1;33m\u001b[0m\u001b[1;33m\u001b[0m\u001b[0m\n\u001b[0m",
      "\u001b[1;31mKeyError\u001b[0m: 'foo'"
     ]
    }
   ],
   "source": [
    "spam['foo'] #you get a key error"
   ]
  },
  {
   "cell_type": "markdown",
   "id": "fe444fab",
   "metadata": {},
   "source": [
    "5.no difference both 'cat' in spam and 'cat' in spam.keys() checks the value of keys in dictionary spam."
   ]
  },
  {
   "cell_type": "markdown",
   "id": "bacb9ad1",
   "metadata": {},
   "source": [
    "6. 'cat' in spam check for keys name 'cat' but in spam.values() will check the 'cat' in values of the keys of dictionary spam."
   ]
  },
  {
   "cell_type": "markdown",
   "id": "3908d1c3",
   "metadata": {},
   "source": [
    "7.spam.setdefault('color','black')"
   ]
  },
  {
   "cell_type": "markdown",
   "id": "861cb509",
   "metadata": {},
   "source": [
    "8.pprint.pprint()"
   ]
  },
  {
   "cell_type": "code",
   "execution_count": null,
   "id": "fe9bb046",
   "metadata": {},
   "outputs": [],
   "source": []
  }
 ],
 "metadata": {
  "kernelspec": {
   "display_name": "Python 3",
   "language": "python",
   "name": "python3"
  },
  "language_info": {
   "codemirror_mode": {
    "name": "ipython",
    "version": 3
   },
   "file_extension": ".py",
   "mimetype": "text/x-python",
   "name": "python",
   "nbconvert_exporter": "python",
   "pygments_lexer": "ipython3",
   "version": "3.8.8"
  }
 },
 "nbformat": 4,
 "nbformat_minor": 5
}
