{
 "cells": [
  {
   "cell_type": "markdown",
   "id": "b0104abb",
   "metadata": {},
   "source": [
    "# Assignment 4"
   ]
  },
  {
   "cell_type": "markdown",
   "id": "0e5b97f0",
   "metadata": {},
   "source": [
    "1.[] square brackets represents an empty list.List is a form of container in which items are kept one after the other in positions as index number 0 to n-1 enclosed in square brackets."
   ]
  },
  {
   "cell_type": "markdown",
   "id": "9b3b654d",
   "metadata": {},
   "source": [
    "2.spam =[2,4,6,8,10] by spam[2]='hello'."
   ]
  },
  {
   "cell_type": "code",
   "execution_count": null,
   "id": "eff7d3dc",
   "metadata": {},
   "outputs": [],
   "source": [
    "spam=['a','b','c','d'] #for the question 3,4,5\n"
   ]
  },
  {
   "cell_type": "code",
   "execution_count": 5,
   "id": "79029a2e",
   "metadata": {},
   "outputs": [
    {
     "data": {
      "text/plain": [
       "'d'"
      ]
     },
     "execution_count": 5,
     "metadata": {},
     "output_type": "execute_result"
    }
   ],
   "source": [
    "spam[int(int('3'*2)/11)]"
   ]
  },
  {
   "cell_type": "code",
   "execution_count": 6,
   "id": "2d5f9e2c",
   "metadata": {},
   "outputs": [
    {
     "data": {
      "text/plain": [
       "'d'"
      ]
     },
     "execution_count": 6,
     "metadata": {},
     "output_type": "execute_result"
    }
   ],
   "source": [
    "spam[-1]"
   ]
  },
  {
   "cell_type": "code",
   "execution_count": 7,
   "id": "6c315390",
   "metadata": {},
   "outputs": [
    {
     "data": {
      "text/plain": [
       "['a', 'b']"
      ]
     },
     "execution_count": 7,
     "metadata": {},
     "output_type": "execute_result"
    }
   ],
   "source": [
    "spam[:2]"
   ]
  },
  {
   "cell_type": "code",
   "execution_count": 8,
   "id": "b30a21be",
   "metadata": {},
   "outputs": [],
   "source": [
    "bacon=[3.14,'cat',11,'cat',True]# for the questions 6,7,8"
   ]
  },
  {
   "cell_type": "code",
   "execution_count": 9,
   "id": "f1031929",
   "metadata": {},
   "outputs": [
    {
     "data": {
      "text/plain": [
       "1"
      ]
     },
     "execution_count": 9,
     "metadata": {},
     "output_type": "execute_result"
    }
   ],
   "source": [
    "bacon.index('cat')#tell the index value of the 1st 'cat'"
   ]
  },
  {
   "cell_type": "code",
   "execution_count": 10,
   "id": "9f9da51e",
   "metadata": {},
   "outputs": [],
   "source": [
    "bacon.append(99)#add 99 to the list"
   ]
  },
  {
   "cell_type": "code",
   "execution_count": 11,
   "id": "ef84aad8",
   "metadata": {},
   "outputs": [
    {
     "data": {
      "text/plain": [
       "[3.14, 'cat', 11, 'cat', True, 99]"
      ]
     },
     "execution_count": 11,
     "metadata": {},
     "output_type": "execute_result"
    }
   ],
   "source": [
    "bacon"
   ]
  },
  {
   "cell_type": "code",
   "execution_count": 12,
   "id": "604fa984",
   "metadata": {},
   "outputs": [],
   "source": [
    "bacon.remove('cat') #it just removes the first cat string"
   ]
  },
  {
   "cell_type": "code",
   "execution_count": 13,
   "id": "75aa482b",
   "metadata": {},
   "outputs": [
    {
     "data": {
      "text/plain": [
       "[3.14, 11, 'cat', True, 99]"
      ]
     },
     "execution_count": 13,
     "metadata": {},
     "output_type": "execute_result"
    }
   ],
   "source": [
    "bacon"
   ]
  },
  {
   "cell_type": "markdown",
   "id": "c0d569a0",
   "metadata": {},
   "source": [
    "9. '+' operator is used to concatenate the two lists eg. a=[1,2] b= ['sri','boy'] a+b=[1,2,'sri','boy'] and to replicate any list [:] is used"
   ]
  },
  {
   "cell_type": "markdown",
   "id": "ef49d771",
   "metadata": {},
   "source": [
    "10. list method append() will add item at the end of the list. but insert(i,x) will insert x at the place of index i. "
   ]
  },
  {
   "cell_type": "markdown",
   "id": "bd55eb50",
   "metadata": {},
   "source": [
    "11.one by slicing it and second by using remove function."
   ]
  },
  {
   "cell_type": "markdown",
   "id": "b81923b5",
   "metadata": {},
   "source": [
    "12.list value is similar to string as both are the set of elements but in strings we can have only one type character and list can have all types of elements."
   ]
  },
  {
   "cell_type": "markdown",
   "id": "1f3cb776",
   "metadata": {},
   "source": [
    "13. differencwe between list and tuples \n",
    "a)list in square brackets and tuples in curly brackets\n",
    "b) list are mutable i.e can be altered by insert or simple initiation function but tuples are immutable\n",
    "c) list have several built in methods and tuples doesn't have it"
   ]
  },
  {
   "cell_type": "markdown",
   "id": "4733273f",
   "metadata": {},
   "source": [
    "14. a=(42)"
   ]
  },
  {
   "cell_type": "markdown",
   "id": "3ab68c84",
   "metadata": {},
   "source": [
    "15.a=[1,2,3]\n",
    "tuple(a)\n",
    "b=(1,2,3)\n",
    "list(b)"
   ]
  },
  {
   "cell_type": "markdown",
   "id": "850fa36b",
   "metadata": {},
   "source": [
    "16. list contain all variable integer, float, string ,boolean."
   ]
  },
  {
   "cell_type": "markdown",
   "id": "83fda029",
   "metadata": {},
   "source": [
    "17. copy.copy() performs shallow copy  copy.deepcopy() performs deep copy"
   ]
  },
  {
   "cell_type": "code",
   "execution_count": null,
   "id": "c80fc361",
   "metadata": {},
   "outputs": [],
   "source": []
  }
 ],
 "metadata": {
  "kernelspec": {
   "display_name": "Python 3",
   "language": "python",
   "name": "python3"
  },
  "language_info": {
   "codemirror_mode": {
    "name": "ipython",
    "version": 3
   },
   "file_extension": ".py",
   "mimetype": "text/x-python",
   "name": "python",
   "nbconvert_exporter": "python",
   "pygments_lexer": "ipython3",
   "version": "3.8.8"
  }
 },
 "nbformat": 4,
 "nbformat_minor": 5
}
