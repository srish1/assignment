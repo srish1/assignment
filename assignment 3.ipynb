{
 "cells": [
  {
   "cell_type": "markdown",
   "id": "21d2c3ec",
   "metadata": {},
   "source": [
    "# Assignment 3"
   ]
  },
  {
   "cell_type": "markdown",
   "id": "83e8b3fb",
   "metadata": {},
   "source": [
    "1.functions are advantageous as once created they can be called anywhere else, if the same operations has to be performed.In a way preventing the duplicacy of the codes."
   ]
  },
  {
   "cell_type": "markdown",
   "id": "443200f2",
   "metadata": {},
   "source": [
    "2.codes in the function run when they are called."
   ]
  },
  {
   "cell_type": "markdown",
   "id": "2c6eac65",
   "metadata": {},
   "source": [
    "3. the function is created by def keyword followed by a name and a parentheses() eg. def add()"
   ]
  },
  {
   "cell_type": "markdown",
   "id": "3ff74bd9",
   "metadata": {},
   "source": [
    "4.Difference between a function and a function calls is that a function is the place where the code of the task of the function is wriiten and function call is where the function is called to execute the task."
   ]
  },
  {
   "cell_type": "markdown",
   "id": "359ca04d",
   "metadata": {},
   "source": [
    " 5.There is only one global scope in python which is outside the function and containd global variable, it stays in existence until the progrfam terminates and all its names are forgotten.\n",
    " Local scopes on the other hand is defined inside the function and contains local variables."
   ]
  },
  {
   "cell_type": "markdown",
   "id": "db1af8f2",
   "metadata": {},
   "source": [
    "6. When the function calls returns the local variables helps in funstion execution and then gets destroyed."
   ]
  },
  {
   "cell_type": "markdown",
   "id": "6766704a",
   "metadata": {},
   "source": [
    "7. The concept of return value is that the function returns the value after performing the task.Yes the return value can be in expression."
   ]
  },
  {
   "cell_type": "markdown",
   "id": "60e1a910",
   "metadata": {},
   "source": [
    "8.if a function does not have a return statement it returns \"none\" type. "
   ]
  },
  {
   "cell_type": "markdown",
   "id": "fea7baab",
   "metadata": {},
   "source": [
    "9.To make a function variable refer to the global variable by using a 'global' keyword."
   ]
  },
  {
   "cell_type": "markdown",
   "id": "6da92ee1",
   "metadata": {},
   "source": [
    "10. None is used to define the null variable or an object, which is a 'none type'. eg. a function with no return statement and a print statement returns none type."
   ]
  },
  {
   "cell_type": "markdown",
   "id": "d59a8fd8",
   "metadata": {},
   "source": [
    "11. the import areallyourpetsnamederic sentence import the module(or package) of the same name."
   ]
  },
  {
   "cell_type": "markdown",
   "id": "f4120bc4",
   "metadata": {},
   "source": [
    "12. spam.bacon()"
   ]
  },
  {
   "cell_type": "markdown",
   "id": "b89788ea",
   "metadata": {},
   "source": [
    "13.we can use exception handling i.e by using try and except."
   ]
  },
  {
   "cell_type": "markdown",
   "id": "2a671e6b",
   "metadata": {},
   "source": [
    "14. the \"try\" statement helps to test the code for an error, thus providing a buffer for the program from crashing.The \"except\" statement catches the exception i.e if the error is found the contents of \"except\" are blocked."
   ]
  },
  {
   "cell_type": "code",
   "execution_count": null,
   "id": "02df067f",
   "metadata": {},
   "outputs": [],
   "source": []
  }
 ],
 "metadata": {
  "kernelspec": {
   "display_name": "Python 3",
   "language": "python",
   "name": "python3"
  },
  "language_info": {
   "codemirror_mode": {
    "name": "ipython",
    "version": 3
   },
   "file_extension": ".py",
   "mimetype": "text/x-python",
   "name": "python",
   "nbconvert_exporter": "python",
   "pygments_lexer": "ipython3",
   "version": "3.8.8"
  }
 },
 "nbformat": 4,
 "nbformat_minor": 5
}
