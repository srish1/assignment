{
 "cells": [
  {
   "cell_type": "markdown",
   "id": "bd8f1422",
   "metadata": {},
   "source": [
    "# Assignment 6"
   ]
  },
  {
   "cell_type": "markdown",
   "id": "3d3365c8",
   "metadata": {},
   "source": [
    "1. escape characters are special characters that are followed with backslash. They perfom the following function eg. \\n means newline \\t means tab, \\r carriage return.\n",
    "2. \\n means newline \\t means tab.\n",
    "3.'\\\\n'\n",
    "4. single quote is accepted as it is further enclosed by double quotes\"\" thus making whole a stri ng value"
   ]
  },
  {
   "cell_type": "code",
   "execution_count": 1,
   "id": "85b4edcf",
   "metadata": {},
   "outputs": [
    {
     "data": {
      "text/plain": [
       "'e'"
      ]
     },
     "execution_count": 1,
     "metadata": {},
     "output_type": "execute_result"
    }
   ],
   "source": [
    "#5 question\n",
    "'hello,world!'[1]   # gioves the index value of string hello world"
   ]
  },
  {
   "cell_type": "markdown",
   "id": "6e7fbe2e",
   "metadata": {},
   "source": [
    "'hello,world!'[0:5] reresents index value 0 to 4i.e 'hello'\n",
    "'hello,world!'[:5] represent same index value 0 to 4 'hello'\n",
    "'hello,world!'[3:] represents the index value 3 to the end 'lo,world!'"
   ]
  },
  {
   "cell_type": "code",
   "execution_count": 4,
   "id": "606078f2",
   "metadata": {},
   "outputs": [
    {
     "data": {
      "text/plain": [
       "'HELLO'"
      ]
     },
     "execution_count": 4,
     "metadata": {},
     "output_type": "execute_result"
    }
   ],
   "source": [
    "'hello'.upper()# it is a string function will convert whole string in uppercase\n"
   ]
  },
  {
   "cell_type": "code",
   "execution_count": 5,
   "id": "360fd14f",
   "metadata": {},
   "outputs": [
    {
     "data": {
      "text/plain": [
       "True"
      ]
     },
     "execution_count": 5,
     "metadata": {},
     "output_type": "execute_result"
    }
   ],
   "source": [
    "'hello'.upper().isupper()# converting the string to uppercase by upper() and checking if its in uppercase by function isupper()"
   ]
  },
  {
   "cell_type": "code",
   "execution_count": 7,
   "id": "30170b35",
   "metadata": {},
   "outputs": [
    {
     "data": {
      "text/plain": [
       "'hello'"
      ]
     },
     "execution_count": 7,
     "metadata": {},
     "output_type": "execute_result"
    }
   ],
   "source": [
    "'hello'.upper().lower()#chamging the string to uppercare then lowercase"
   ]
  },
  {
   "cell_type": "code",
   "execution_count": 8,
   "id": "3812070a",
   "metadata": {},
   "outputs": [
    {
     "data": {
      "text/plain": [
       "['Remember,', 'remember,', 'the', 'fifth', 'of', 'July']"
      ]
     },
     "execution_count": 8,
     "metadata": {},
     "output_type": "execute_result"
    }
   ],
   "source": [
    "'Remember, remember, the fifth of July'.split()"
   ]
  },
  {
   "cell_type": "code",
   "execution_count": 9,
   "id": "3ab98416",
   "metadata": {},
   "outputs": [
    {
     "data": {
      "text/plain": [
       "'There-can-only-one'"
      ]
     },
     "execution_count": 9,
     "metadata": {},
     "output_type": "execute_result"
    }
   ],
   "source": [
    "'-'.join('There can only one'.split())"
   ]
  },
  {
   "cell_type": "markdown",
   "id": "d8dc85e2",
   "metadata": {},
   "source": [
    "9.ljust(),rjust() and centre()"
   ]
  },
  {
   "cell_type": "markdown",
   "id": "05f231b7",
   "metadata": {},
   "source": [
    "10. strip() function will remove whitespaces from the leading and trailing end."
   ]
  },
  {
   "cell_type": "code",
   "execution_count": null,
   "id": "dcd62837",
   "metadata": {},
   "outputs": [],
   "source": []
  }
 ],
 "metadata": {
  "kernelspec": {
   "display_name": "Python 3",
   "language": "python",
   "name": "python3"
  },
  "language_info": {
   "codemirror_mode": {
    "name": "ipython",
    "version": 3
   },
   "file_extension": ".py",
   "mimetype": "text/x-python",
   "name": "python",
   "nbconvert_exporter": "python",
   "pygments_lexer": "ipython3",
   "version": "3.8.8"
  }
 },
 "nbformat": 4,
 "nbformat_minor": 5
}
